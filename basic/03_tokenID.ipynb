{
 "cells": [
  {
   "cell_type": "markdown",
   "id": "1dda71d4",
   "metadata": {},
   "source": [
    "# Convert token to token ID\n",
    "- 이전 코드에서 Edith Wharton의 단편 소설을 개별 토큰으로 분할하였다.\n",
    "- 이번에는 이러한 토큰을 Python 문자열에서 정수 표현으로 변환하여 \"토큰 ID\"를 생성할 것이다.\n",
    "- 이전에 생성한 토큰을 토큰 ID로 매핑하려면 먼저 소위 **어휘(vocabulary)**를 만들어야 한다.\n",
    "    - 이 어휘는 각 고유 단어와 특수 문자를 고유한 정수에 매핑하는 방법을 정의한다.\n",
    "\n",
    "<img src=\"img/3.png\" alt=\"OLS\">"
   ]
  },
  {
   "cell_type": "markdown",
   "id": "c4e20c96",
   "metadata": {},
   "source": [
    "- 어휘를 구축하기 위해 훈련 데이터셋의 전체 텍스트를 개별 토큰으로 토큰화한다.\n",
    "- 이 개별 토큰을 알파벳순으로 정렬하고 중복된 토큰을 제거한다.\n",
    "- 고유 토큰을 모아 어휘를 생성하며, 이는 각 고유 토큰을 고유한 정수 값에 매핑하는 방법을 정의한다."
   ]
  },
  {
   "cell_type": "code",
   "execution_count": 2,
   "id": "f2769207",
   "metadata": {},
   "outputs": [],
   "source": [
    "import re\n",
    "\n",
    "with open(\"the-verdict.txt\", \"r\", encoding=\"utf-8\") as f:\n",
    "    raw_text = f.read()\n",
    "\n",
    "preprocessed = re.split(r'([,.:;?_!\"()\\']|--|\\s)', raw_text)\n",
    "preprocessed = [item.strip() for item in preprocessed if item.strip()]"
   ]
  },
  {
   "cell_type": "code",
   "execution_count": null,
   "id": "6ab87860",
   "metadata": {},
   "outputs": [
    {
     "name": "stdout",
     "output_type": "stream",
     "text": [
      "1130\n"
     ]
    }
   ],
   "source": [
    "# set()을 통해 중복 제거 & sorted()로 알파벳 순으로 정렬\n",
    "all_words = sorted(set(preprocessed))\n",
    "vocab_size = len(all_words) # 고유 단어 리스트의 길이\n",
    "print(vocab_size)"
   ]
  },
  {
   "cell_type": "code",
   "execution_count": null,
   "id": "14c2f796",
   "metadata": {},
   "outputs": [
    {
     "name": "stdout",
     "output_type": "stream",
     "text": [
      "('!', 0)\n",
      "('\"', 1)\n",
      "(\"'\", 2)\n",
      "('(', 3)\n",
      "(')', 4)\n",
      "(',', 5)\n",
      "('--', 6)\n",
      "('.', 7)\n",
      "(':', 8)\n",
      "(';', 9)\n",
      "('?', 10)\n",
      "('A', 11)\n",
      "('Ah', 12)\n",
      "('Among', 13)\n",
      "('And', 14)\n",
      "('Are', 15)\n",
      "('Arrt', 16)\n",
      "('As', 17)\n",
      "('At', 18)\n",
      "('Be', 19)\n",
      "('Begin', 20)\n",
      "('Burlington', 21)\n",
      "('But', 22)\n",
      "('By', 23)\n",
      "('Carlo', 24)\n",
      "('Chicago', 25)\n",
      "('Claude', 26)\n",
      "('Come', 27)\n",
      "('Croft', 28)\n",
      "('Destroyed', 29)\n",
      "('Devonshire', 30)\n",
      "('Don', 31)\n",
      "('Dubarry', 32)\n",
      "('Emperors', 33)\n",
      "('Florence', 34)\n",
      "('For', 35)\n",
      "('Gallery', 36)\n",
      "('Gideon', 37)\n",
      "('Gisburn', 38)\n",
      "('Gisburns', 39)\n",
      "('Grafton', 40)\n",
      "('Greek', 41)\n",
      "('Grindle', 42)\n",
      "('Grindles', 43)\n",
      "('HAD', 44)\n",
      "('Had', 45)\n",
      "('Hang', 46)\n",
      "('Has', 47)\n",
      "('He', 48)\n",
      "('Her', 49)\n",
      "('Hermia', 50)\n",
      "('His', 51)\n"
     ]
    }
   ],
   "source": [
    "# vocab dictionary 생성 : enumerate(all_words) -> (index, element) 이터레이터 반환\n",
    "vocab = {token:integer for integer,token in enumerate(all_words)}\n",
    "\n",
    "# vocab.items() -> 딕셔너리의 key-value쌍을 (key, value) 형태로 꺼냄\n",
    "for i, item in enumerate(vocab.items()):\n",
    "    print(item)\n",
    "    if i > 50:\n",
    "        break"
   ]
  },
  {
   "cell_type": "markdown",
   "id": "64f1f56d",
   "metadata": {},
   "source": [
    "***\n",
    "- 위의 출력 결과를 보면, 각 고유한 정수 라벨과 연결된 개별 토큰이 포함된 dictionary를 확인할 수 있다.\n",
    "- 다음 목표는 이 어휘를 사용하여 새 텍스트를 토큰 ID로 변환하는 것이다!\n",
    "\n",
    "<img src=\"img/4.png\">\n",
    "\n",
    "- 텍스트를 토큰화하고, 문자열을 정수로 매핑하여 어휘를 통해 토큰 ID를 생성하는 encode 메서드를 포함하는 간단한 파이썬 토크나이저 클래스를 구현해보자."
   ]
  },
  {
   "cell_type": "code",
   "execution_count": null,
   "id": "931f8dd7",
   "metadata": {},
   "outputs": [],
   "source": [
    "# 심플 텍스트 토크나이저의 구현\n",
    "\n",
    "class SimpleTokenizerV1:\n",
    "    def __init__(self, vocab):\n",
    "        self.str_to_int = vocab\n",
    "        self.int_to_str = {i:s for s,i in vocab.items()}\n",
    "    \n",
    "    def encode(self, text):\n",
    "        preprocessed = re.split(r'([,.:;?_!\"()\\']|--|\\s)', text)\n",
    "        preprocessed = [item.strip() for item in preprocessed if item.strip()]\n",
    "        ids = [self.str_to_int[s] for s in preprocessed]\n",
    "        return ids\n",
    "\n",
    "    def decode(self, ids):\n",
    "        text = ' '.join([self.int_to_str[i] for i in ids])\n",
    "        text = re.sub(r'\\s+([,.?!\"()\\'])', r'\\1', text)\n",
    "        return text"
   ]
  },
  {
   "cell_type": "markdown",
   "id": "bdf25705",
   "metadata": {},
   "source": [
    "1. 생성자\n",
    "- SimpleTokenizerV1 클래스의 생성자에서 vocab을 받는 이유는 이후 encode()와 decode() 함수에서 사용할 단어 <=> ID 매핑 정보를 저장하기 위해서이다.\n",
    "\n",
    "- self.str_to_int:\n",
    "    - 단어 -> 숫자 ID\n",
    "\n",
    "- self.int_to_str:\n",
    "    - 숫자 ID -> 단어\n",
    "\n",
    "***\n",
    "\n",
    "2. encode\n",
    "- 텍스트가 들어왔을 때, 공백과 특수문자를 기준으로 분할하여 전처리하고\n",
    "- 전처리된 리스트 preprocessed를 통해 str_to_int[s]로 인덱싱하여 토큰의 고유 ID를 갖는 리스트 ids를 반환한다.\n",
    "\n",
    "***\n",
    "\n",
    "3. decode\n",
    "- 고유 ID 리스트 ids를 토대로 각 ID에 해당하는 토큰 조회\n",
    "- 공백으로 단어들을 이어붙힌다.\n",
    "- 구두점 앞 공백을 제거하고\n",
    "- 최종 텍스트를 반환한다.\n",
    "\n",
    "> 위 과정을 그림으로 요약한 것이 밑의 그림이다.\n",
    "\n",
    "<img src=\"img/5.png\">"
   ]
  },
  {
   "cell_type": "code",
   "execution_count": 6,
   "id": "eef47580",
   "metadata": {},
   "outputs": [
    {
     "name": "stdout",
     "output_type": "stream",
     "text": [
      "[1, 56, 2, 850, 988, 602, 533, 746, 5, 1126, 596, 5, 1, 67, 7, 38, 851, 1108, 754, 793, 7]\n"
     ]
    }
   ],
   "source": [
    "# 새로운 토크나이저 객체 생성\n",
    "tokenizer = SimpleTokenizerV1(vocab)\n",
    "text = \"\"\"\"It's the last he painted, you know,\" Mrs. Gisburn said with pardonable\n",
    "pride.\"\"\"\n",
    "ids = tokenizer.encode(text)\n",
    "print(ids)"
   ]
  },
  {
   "cell_type": "code",
   "execution_count": 7,
   "id": "e12b4049",
   "metadata": {},
   "outputs": [
    {
     "name": "stdout",
     "output_type": "stream",
     "text": [
      "\" It ' s the last he painted , you know , \" Mrs . Gisburn said with pardonable pride .\n"
     ]
    }
   ],
   "source": [
    "# 위의 토큰 ID를 decode를 통해 텍스트로 다시 변환\n",
    "print(tokenizer.decode(ids))"
   ]
  },
  {
   "cell_type": "code",
   "execution_count": null,
   "id": "e9cb742e",
   "metadata": {},
   "outputs": [],
   "source": []
  }
 ],
 "metadata": {
  "kernelspec": {
   "display_name": "Python 3",
   "language": "python",
   "name": "python3"
  },
  "language_info": {
   "codemirror_mode": {
    "name": "ipython",
    "version": 3
   },
   "file_extension": ".py",
   "mimetype": "text/x-python",
   "name": "python",
   "nbconvert_exporter": "python",
   "pygments_lexer": "ipython3",
   "version": "3.13.1"
  }
 },
 "nbformat": 4,
 "nbformat_minor": 5
}
